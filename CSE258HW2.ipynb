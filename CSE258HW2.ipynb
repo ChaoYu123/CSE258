{
 "cells": [
  {
   "cell_type": "code",
   "execution_count": 1,
   "metadata": {
    "collapsed": true
   },
   "outputs": [],
   "source": [
    "import numpy as np\n",
    "import urllib\n",
    "import scipy.optimize\n",
    "import random\n",
    "from math import exp\n",
    "from math import log"
   ]
  },
  {
   "cell_type": "code",
   "execution_count": 2,
   "metadata": {},
   "outputs": [
    {
     "name": "stdout",
     "output_type": "stream",
     "text": [
      "Reading data...\n",
      "done\n"
     ]
    }
   ],
   "source": [
    "def parseData(fname):\n",
    "    for l in urllib.urlopen(fname):\n",
    "        yield eval(l)\n",
    "\n",
    "print \"Reading data...\"\n",
    "data = list(parseData(\"http://jmcauley.ucsd.edu/cse190/data/beer/beer_50000.json\"))\n",
    "print \"done\""
   ]
  },
  {
   "cell_type": "code",
   "execution_count": 3,
   "metadata": {
    "collapsed": true
   },
   "outputs": [],
   "source": [
    "#create binary feature for beer\n",
    "for i in range(len(data)):\n",
    "    if data[i]['beer/style'] == 'American IPA':\n",
    "        data[i]['is American IPA']=1\n",
    "    else:\n",
    "        data[i]['is American IPA']=0\n",
    "    "
   ]
  },
  {
   "cell_type": "code",
   "execution_count": 4,
   "metadata": {
    "collapsed": true
   },
   "outputs": [],
   "source": [
    "X=[[1,b['review/taste'],b['review/appearance'],b['review/aroma'],b['review/palate']\n",
    "   ,b['review/overall']]for b in data]\n",
    "y = [int(b['beer/ABV']>=6.5) for b in data]"
   ]
  },
  {
   "cell_type": "code",
   "execution_count": 5,
   "metadata": {
    "collapsed": true
   },
   "outputs": [],
   "source": [
    "X_train=X[0:len(X)/3]\n",
    "y_train=y[0:len(X)/3]\n",
    "X_valid=X[len(X)/3:len(X)/3*2]\n",
    "y_valid=y[len(X)/3:len(X)/3*2]\n",
    "X_test=X[len(X)/3*2:]\n",
    "y_test=y[len(X)/3*2:]"
   ]
  },
  {
   "cell_type": "code",
   "execution_count": 6,
   "metadata": {},
   "outputs": [
    {
     "name": "stdout",
     "output_type": "stream",
     "text": [
      "lambda = 1.0:\t training accuracy=0.669866794672\n",
      "validation set accuracy 0.90027601104\n",
      "test set accuracy 0.577813774898\n"
     ]
    }
   ],
   "source": [
    "def inner(x,y):\n",
    "    return sum([x[i]*y[i] for i in range(len(x))])\n",
    "\n",
    "def sigmoid(x):\n",
    "    return 1.0 / (1 + exp(-x))\n",
    "\n",
    "##################################################\n",
    "# Logistic regression by gradient ascent         #\n",
    "##################################################\n",
    "\n",
    "# NEGATIVE Log-likelihood\n",
    "def f(theta, X, y, lam):\n",
    "    loglikelihood = 0\n",
    "    #weight=np.array([1,0.8,0.8,0.8,1,1])\n",
    "    for i in range(len(X)):\n",
    "        logit = inner(X[i], theta)\n",
    "        loglikelihood -= log(1 + exp(-logit))\n",
    "        if not y[i]:\n",
    "            loglikelihood -= logit\n",
    "    for k in range(len(theta)):\n",
    "        loglikelihood -= lam * theta[k]*theta[k]\n",
    "  # for debugging\n",
    "    #print(\"ll =\" + str(loglikelihood))\n",
    "    return -loglikelihood\n",
    "\n",
    "# NEGATIVE Derivative of log-likelihood\n",
    "def fprime(theta, X, y, lam):\n",
    "    dl = [0]*len(theta)\n",
    "    for i in range(len(X)):\n",
    "        logit = inner(X[i], theta)\n",
    "        for k in range(len(theta)):\n",
    "            dl[k] += X[i][k] * (1 - sigmoid(logit))\n",
    "            if not y[i]:\n",
    "                dl[k] -= X[i][k]\n",
    "    for k in range(len(theta)):\n",
    "        dl[k] -= lam*2*theta[k]\n",
    "    return np.array([-x for x in dl])\n",
    "\n",
    "# X_train = X\n",
    "# y_train = y\n",
    "\n",
    "##################################################\n",
    "# Train                                          #\n",
    "##################################################\n",
    "\n",
    "def train(lam):\n",
    "    theta,_,_ = scipy.optimize.fmin_l_bfgs_b(f, [0]*len(X_train[0]), fprime, pgtol = 10, args = (X_train, y_train, lam))\n",
    "    return theta\n",
    "\n",
    "##################################################\n",
    "# Predict                                        #\n",
    "##################################################\n",
    "\n",
    "def performance(theta):\n",
    "    scores = [inner(theta,x) for x in X_train]\n",
    "    predictions = [s > 0 for s in scores]\n",
    "    correct = [(a==b) for (a,b) in zip(predictions,y_train)]\n",
    "    acc = sum(correct) * 1.0 / len(correct)\n",
    "    return acc\n",
    "def performance_valid(theta):\n",
    "    scores = [inner(theta,x) for x in X_valid]\n",
    "    predictions = [s > 0 for s in scores]\n",
    "    correct = [(a==b) for (a,b) in zip(predictions,y_valid)]\n",
    "    acc = sum(correct) * 1.0 / len(correct)\n",
    "    return acc\n",
    "def performance_test(theta):\n",
    "    scores = [inner(theta,x) for x in X_test]\n",
    "    predictions = [s > 0 for s in scores]\n",
    "    correct = [(a==b) for (a,b) in zip(predictions,y_test)]\n",
    "    acc = sum(correct) * 1.0 / len(correct)\n",
    "    return acc\n",
    "##################################################\n",
    "# Validation pipeline                            #\n",
    "##################################################\n",
    "\n",
    "lam = 1.0\n",
    "\n",
    "theta = train(lam)\n",
    "acc = performance(theta)\n",
    "acc1 = performance_valid(theta)\n",
    "acc2 = performance_test(theta)\n",
    "\n",
    "print(\"lambda = \" + str(lam) + \":\\t training accuracy=\" + str(acc))\n",
    "print 'validation set accuracy',acc1\n",
    "print 'test set accuracy',acc2\n"
   ]
  },
  {
   "cell_type": "code",
   "execution_count": 7,
   "metadata": {
    "collapsed": true
   },
   "outputs": [],
   "source": [
    "#Q2 count ten words\n",
    "tenwords=[\"lactic\", \"tart\", \"sour\", \"citric\", \"sweet\", \"acid\", \"hop\", \"fruit\", \"salt\", \"spicy\"]"
   ]
  },
  {
   "cell_type": "code",
   "execution_count": 8,
   "metadata": {
    "collapsed": true
   },
   "outputs": [],
   "source": [
    "#use stemmer to do the word count\n",
    "import nltk\n",
    "from nltk.stem.porter import *\n",
    "from collections import defaultdict\n",
    "import string"
   ]
  },
  {
   "cell_type": "code",
   "execution_count": 9,
   "metadata": {
    "collapsed": true
   },
   "outputs": [],
   "source": [
    "stemmer = PorterStemmer()\n",
    "punctuation = set(string.punctuation)\n",
    "def feature(datum):\n",
    "    feat = [1]\n",
    "    wordCount = defaultdict(int)\n",
    "    for w in datum['review/text'].split():\n",
    "        w = ''.join([c for c in w.lower() if not c in punctuation])\n",
    "        w = stemmer.stem(w)\n",
    "        wordCount[w] += 1\n",
    "    for i in range(10):\n",
    "        feat.append(wordCount[tenwords[i]])\n",
    "    return feat"
   ]
  },
  {
   "cell_type": "code",
   "execution_count": null,
   "metadata": {
    "collapsed": true
   },
   "outputs": [],
   "source": [
    "def:\n",
    "    r=\n",
    "    words=r.split()\n",
    "    for w in words:\n",
    "        if w in tenwords:\n",
    "            feat[wordId[w]]+=1\n",
    "    feat.append(1)"
   ]
  },
  {
   "cell_type": "code",
   "execution_count": 10,
   "metadata": {
    "collapsed": true
   },
   "outputs": [],
   "source": [
    "X = [feature(d) for d in data]\n",
    "y = [int(b['beer/ABV']>=6.5) for b in data]"
   ]
  },
  {
   "cell_type": "code",
   "execution_count": 11,
   "metadata": {
    "collapsed": true
   },
   "outputs": [],
   "source": [
    "#shuffle data\n",
    "total=X\n",
    "for i in range(len(X)):\n",
    "    total[i]=X[i]+[y[i]]\n",
    "np.random.shuffle(total)\n",
    "X=[x[:-1] for x in total]\n",
    "y=[y[-1] for y in total]"
   ]
  },
  {
   "cell_type": "code",
   "execution_count": 12,
   "metadata": {
    "collapsed": true
   },
   "outputs": [],
   "source": [
    "X_train=X[0:len(X)/3]\n",
    "y_train=y[0:len(X)/3]\n",
    "X_valid=X[len(X)/3:len(X)/3*2]\n",
    "y_valid=y[len(X)/3:len(X)/3*2]\n",
    "X_test=X[len(X)/3*2:]\n",
    "y_test=y[len(X)/3*2:]"
   ]
  },
  {
   "cell_type": "code",
   "execution_count": 13,
   "metadata": {},
   "outputs": [
    {
     "name": "stdout",
     "output_type": "stream",
     "text": [
      "lambda = 1:\t training accuracy=0.623484939398\n",
      "validation set accuracy 0.620124804992\n",
      "test set accuracy 0.626469882409\n"
     ]
    }
   ],
   "source": [
    "lam = 1\n",
    "theta = train(lam)\n",
    "acc = performance(theta)\n",
    "acc1 = performance_valid(theta)\n",
    "acc2 = performance_test(theta)\n",
    "\n",
    "print(\"lambda = \" + str(lam) + \":\\t training accuracy=\" + str(acc))\n",
    "print 'validation set accuracy',acc1\n",
    "print 'test set accuracy',acc2"
   ]
  },
  {
   "cell_type": "code",
   "execution_count": 14,
   "metadata": {},
   "outputs": [
    {
     "name": "stdout",
     "output_type": "stream",
     "text": [
      "True Postive is 10397\n",
      "True Negative is 45\n",
      "False Postive is 6175\n",
      "False Negative is 51\n"
     ]
    }
   ],
   "source": [
    "######Q3\n",
    "scores = [inner(theta,x) for x in X_test]\n",
    "TP,TN,FP,FN=0,0,0,0\n",
    "for i in range(len(scores)):\n",
    "    if scores[i]>0 and y_test[i]==1:\n",
    "         TP+=1\n",
    "    elif  scores[i]<0 and y_test[i]==0:\n",
    "         TN+=1\n",
    "    elif  scores[i]>0 and y_test[i]==0:\n",
    "         FP+=1\n",
    "    elif scores[i]<0 and y_test[i]==1:\n",
    "         FN+=1\n",
    "print \"True Postive is\",TP\n",
    "print \"True Negative is\",TN\n",
    "print \"False Postive is\",FP\n",
    "print \"False Negative is\",FN\n"
   ]
  },
  {
   "cell_type": "code",
   "execution_count": 15,
   "metadata": {},
   "outputs": [
    {
     "name": "stdout",
     "output_type": "stream",
     "text": [
      "BER is 0.498823295155\n"
     ]
    }
   ],
   "source": [
    "TPR=(TP)*1.0/(TP+FN)\n",
    "TNR=(TN)*1.0/(TN+FP)\n",
    "BER=1-(TPR+TNR)/2\n",
    "print \"BER is\",BER"
   ]
  },
  {
   "cell_type": "code",
   "execution_count": 16,
   "metadata": {
    "collapsed": true
   },
   "outputs": [],
   "source": [
    "######## Q4\n",
    "def f(theta, X, y, lam):\n",
    "    #weight=np.array([1,0.8,0.7,1.1,0.5,1.9,0.8,0.8,1.1,0.9,0.9])\n",
    "    N=len(y)\n",
    "    w1=N*1.0/(2*sum(y))\n",
    "    w2=N*1.0/((len(y)-sum(y))*2)\n",
    "    loglikelihood = 0\n",
    "    for i in range(len(X)):\n",
    "        logit = inner(X[i], theta)\n",
    "        if y[i]==1:\n",
    "            loglikelihood += w1*1.0*log(sigmoid(logit))\n",
    "        if y[i]==0:\n",
    "            loglikelihood +=w2*1.0*log(1-sigmoid(logit))\n",
    "    for k in range(len(theta)):\n",
    "        loglikelihood -= lam * theta[k]*theta[k]\n",
    "  # for debugging\n",
    "    #print(\"ll =\" + str(loglikelihood))\n",
    "    return -loglikelihood                                  \n",
    "                         \n",
    "# NEGATIVE Derivative of log-likelihood\n",
    "def fprime(theta, X, y, lam):\n",
    "    dl = [0]*len(theta)\n",
    "    N=len(y)\n",
    "    w1=N*1.0/(2*sum(y))\n",
    "    w2=N*1.0/((len(y)-sum(y))*2)\n",
    "    for i in range(len(X)):\n",
    "        logit = inner(X[i], theta)\n",
    "        for k in range(len(theta)):\n",
    "            if y[i]==1:\n",
    "                dl[k] += w1*1.0*X[i][k] * (1 - sigmoid(logit))\n",
    "            if y[i]==0:\n",
    "                dl[k] -= w2*1.0*(X[i][k]-X[i][k]*(1-sigmoid(logit)))\n",
    "    for k in range(len(theta)):\n",
    "        dl[k] -= lam*2*theta[k]\n",
    "    return np.array([-x for x in dl])\n"
   ]
  },
  {
   "cell_type": "markdown",
   "metadata": {},
   "source": [
    "I change the likelihood to weighted likelihood estimate because of inbalance might happen in the calculation."
   ]
  },
  {
   "cell_type": "code",
   "execution_count": 18,
   "metadata": {},
   "outputs": [
    {
     "name": "stdout",
     "output_type": "stream",
     "text": [
      "lambda = 1:\t training accuracy=0.519980799232\n",
      "validation set accuracy 0.523520940838\n",
      "test set accuracy 0.523878089753\n"
     ]
    }
   ],
   "source": [
    "lam = 1\n",
    "theta = train(lam)\n",
    "acc = performance(theta)\n",
    "acc1 = performance_valid(theta)\n",
    "acc2 = performance_test(theta)\n",
    "\n",
    "print(\"lambda = \" + str(lam) + \":\\t training accuracy=\" + str(acc))\n",
    "print 'validation set accuracy',acc1\n",
    "print 'test set accuracy',acc2"
   ]
  },
  {
   "cell_type": "code",
   "execution_count": 19,
   "metadata": {},
   "outputs": [
    {
     "name": "stdout",
     "output_type": "stream",
     "text": [
      "BER for test set 0.426758640556\n",
      "BER for train set 0.432335183423\n",
      "BER for validation set 0.429846821587\n"
     ]
    }
   ],
   "source": [
    "scores = [inner(theta,x) for x in X_test]\n",
    "TP,TN,FP,FN=0,0,0,0\n",
    "for i in range(len(scores)):\n",
    "    if scores[i]>0 and y_test[i]==1:\n",
    "         TP+=1\n",
    "    elif  scores[i]<0 and y_test[i]==0:\n",
    "         TN+=1\n",
    "    elif  scores[i]>0 and y_test[i]==0:\n",
    "         FP+=1\n",
    "    elif scores[i]<0 and y_test[i]==1:\n",
    "         FN+=1\n",
    "TPR=(TP)*1.0/(TP+FN)\n",
    "TNR=(TN)*1.0/(TN+FP)\n",
    "BER=1-(TPR+TNR)/2\n",
    "print 'BER for test set',BER\n",
    "scores = [inner(theta,x) for x in X_train]\n",
    "TP,TN,FP,FN=0,0,0,0\n",
    "for i in range(len(scores)):\n",
    "    if scores[i]>0 and y_train[i]==1:\n",
    "         TP+=1\n",
    "    elif  scores[i]<0 and y_train[i]==0:\n",
    "         TN+=1\n",
    "    elif  scores[i]>0 and y_train[i]==0:\n",
    "         FP+=1\n",
    "    elif scores[i]<0 and y_train[i]==1:\n",
    "         FN+=1\n",
    "TPR=(TP)*1.0/(TP+FN)\n",
    "TNR=(TN)*1.0/(TN+FP)\n",
    "BER=1-(TPR+TNR)/2\n",
    "print 'BER for train set',BER\n",
    "scores = [inner(theta,x) for x in X_valid]\n",
    "TP,TN,FP,FN=0,0,0,0\n",
    "for i in range(len(scores)):\n",
    "    if scores[i]>0 and y_valid[i]==1:\n",
    "         TP+=1\n",
    "    elif  scores[i]<0 and y_valid[i]==0:\n",
    "         TN+=1\n",
    "    elif  scores[i]>0 and y_valid[i]==0:\n",
    "         FP+=1\n",
    "    elif scores[i]<0 and y_valid[i]==1:\n",
    "         FN+=1\n",
    "TPR=(TP)*1.0/(TP+FN)\n",
    "TNR=(TN)*1.0/(TN+FP)\n",
    "BER=1-(TPR+TNR)/2\n",
    "print 'BER for validation set',BER"
   ]
  },
  {
   "cell_type": "markdown",
   "metadata": {},
   "source": [
    "It is clearly to see that BER for train, validation and test set decreases when I change the f to weighted likelihood function."
   ]
  },
  {
   "cell_type": "code",
   "execution_count": 20,
   "metadata": {},
   "outputs": [
    {
     "name": "stdout",
     "output_type": "stream",
     "text": [
      "when lamda = 0\n",
      "validation accuracy is  0.523460938438\n",
      "when lamda = 0.01\n",
      "validation accuracy is  0.523460938438\n",
      "when lamda = 0.1\n",
      "validation accuracy is  0.523460938438\n",
      "when lamda = 1\n",
      "validation accuracy is  0.523520940838\n",
      "when lamda = 100\n",
      "validation accuracy is  0.557002280091\n"
     ]
    }
   ],
   "source": [
    "#####Q5\n",
    "lamset=[0,0.01,0.1,1,100]\n",
    "for lamda in lamset:\n",
    "    theta = train(lamda)\n",
    "    acc1 = performance_valid(theta)\n",
    "    print 'when lamda =', lamda\n",
    "    print 'validation accuracy is ',acc1"
   ]
  },
  {
   "cell_type": "code",
   "execution_count": 21,
   "metadata": {},
   "outputs": [
    {
     "name": "stdout",
     "output_type": "stream",
     "text": [
      "lambda = 100:\t training set accuracy=0.554722188888\n",
      "validation set accuracy 0.557002280091\n",
      "test set accuracy 0.56089512839\n",
      "BER for test set 0.413496359863\n",
      "BER for train set 0.421033179548\n",
      "BER for validation set 0.418501881335\n"
     ]
    }
   ],
   "source": [
    "# when lamda=100, the accuracy is the highest, so I choose lamda=100.\n",
    "lam = 100\n",
    "theta = train(lam)\n",
    "acc = performance(theta)\n",
    "acc1 = performance_valid(theta)\n",
    "acc2 = performance_test(theta)\n",
    "\n",
    "print(\"lambda = \" + str(lam) + \":\\t training set accuracy=\" + str(acc))\n",
    "print 'validation set accuracy',acc1\n",
    "print 'test set accuracy',acc2\n",
    "\n",
    "scores = [inner(theta,x) for x in X_test]\n",
    "TP,TN,FP,FN=0,0,0,0\n",
    "for i in range(len(scores)):\n",
    "    if scores[i]>0 and y_test[i]==1:\n",
    "         TP+=1\n",
    "    elif  scores[i]<0 and y_test[i]==0:\n",
    "         TN+=1\n",
    "    elif  scores[i]>0 and y_test[i]==0:\n",
    "         FP+=1\n",
    "    elif scores[i]<0 and y_test[i]==1:\n",
    "         FN+=1\n",
    "TPR=(TP)*1.0/(TP+FN)\n",
    "TNR=(TN)*1.0/(TN+FP)\n",
    "BER=1-(TPR+TNR)/2\n",
    "print 'BER for test set',BER\n",
    "scores = [inner(theta,x) for x in X_train]\n",
    "TP,TN,FP,FN=0,0,0,0\n",
    "for i in range(len(scores)):\n",
    "    if scores[i]>0 and y_train[i]==1:\n",
    "         TP+=1\n",
    "    elif  scores[i]<0 and y_train[i]==0:\n",
    "         TN+=1\n",
    "    elif  scores[i]>0 and y_train[i]==0:\n",
    "         FP+=1\n",
    "    elif scores[i]<0 and y_train[i]==1:\n",
    "         FN+=1\n",
    "TPR=(TP)*1.0/(TP+FN)\n",
    "TNR=(TN)*1.0/(TN+FP)\n",
    "BER=1-(TPR+TNR)/2\n",
    "print 'BER for train set',BER\n",
    "scores = [inner(theta,x) for x in X_valid]\n",
    "TP,TN,FP,FN=0,0,0,0\n",
    "for i in range(len(scores)):\n",
    "    if scores[i]>0 and y_valid[i]==1:\n",
    "         TP+=1\n",
    "    elif  scores[i]<0 and y_valid[i]==0:\n",
    "         TN+=1\n",
    "    elif  scores[i]>0 and y_valid[i]==0:\n",
    "         FP+=1\n",
    "    elif scores[i]<0 and y_valid[i]==1:\n",
    "         FN+=1\n",
    "TPR=(TP)*1.0/(TP+FN)\n",
    "TNR=(TN)*1.0/(TN+FP)\n",
    "BER=1-(TPR+TNR)/2\n",
    "print 'BER for validation set',BER"
   ]
  },
  {
   "cell_type": "code",
   "execution_count": 22,
   "metadata": {
    "collapsed": true
   },
   "outputs": [],
   "source": [
    "####Q6\n",
    "from sklearn.decomposition import PCA\n",
    "from collections import defaultdict"
   ]
  },
  {
   "cell_type": "code",
   "execution_count": 23,
   "metadata": {
    "collapsed": true
   },
   "outputs": [],
   "source": [
    "stemmer = PorterStemmer()\n",
    "punctuation = set(string.punctuation)\n",
    "def feature(datum):\n",
    "    feat = [1]\n",
    "    wordCount = defaultdict(int)\n",
    "    for w in datum['review/text'].split():\n",
    "        w = ''.join([c for c in w.lower() if not c in punctuation])\n",
    "        w = stemmer.stem(w)\n",
    "        wordCount[w] += 1\n",
    "#     for i in range(10):\n",
    "#         feat.append(datum['review/text'].count(tenwords[i]))\n",
    "    for i in range(10):\n",
    "        feat.append(wordCount[tenwords[i]])\n",
    "    return feat\n",
    "X = [feature(d) for d in data]\n",
    "y = [(b['is American IPA']) for b in data]"
   ]
  },
  {
   "cell_type": "code",
   "execution_count": 24,
   "metadata": {
    "collapsed": true
   },
   "outputs": [],
   "source": [
    "###shuffle the data and split data\n",
    "total=X\n",
    "for i in range(len(X)):\n",
    "    total[i]=X[i]+[y[i]]\n",
    "np.random.shuffle(total)\n",
    "X=[x[:-1] for x in total]\n",
    "y=[y[-1] for y in total]\n",
    "X_train=X[0:len(X)/3]\n",
    "y_train=y[0:len(X)/3]\n",
    "X_valid=X[len(X)/3:len(X)/3*2]\n",
    "y_valid=y[len(X)/3:len(X)/3*2]\n",
    "X_test=X[len(X)/3*2:]\n",
    "y_test=y[len(X)/3*2:]"
   ]
  },
  {
   "cell_type": "code",
   "execution_count": 25,
   "metadata": {},
   "outputs": [
    {
     "name": "stdout",
     "output_type": "stream",
     "text": [
      "The PCA components are [[ -0.00000000e+00  -5.61152582e-04  -1.07405301e-02  -1.01657294e-02\n",
      "    1.10541982e-02   1.78456943e-01   1.44357345e-03   9.83695316e-01\n",
      "    1.23817436e-02  -6.44173586e-05   1.93576029e-04]\n",
      " [ -0.00000000e+00   5.61059696e-04   4.64347572e-02   1.04931403e-02\n",
      "   -1.24862372e-03   9.76817422e-01   4.56399731e-03  -1.77957496e-01\n",
      "    1.08948333e-01  -8.88548944e-06   3.42896278e-04]\n",
      " [  0.00000000e+00   3.30573573e-03   1.23914265e-01   6.27712202e-02\n",
      "    1.40423801e-03  -1.14420628e-01   8.59704989e-03   1.03527390e-02\n",
      "    9.83573800e-01   1.02275226e-03  -7.03555154e-04]\n",
      " [  0.00000000e+00   1.71603841e-02   6.95193880e-01   7.03438675e-01\n",
      "    7.95160567e-03  -2.19673416e-02   4.69117299e-02   2.04051085e-02\n",
      "   -1.35725802e-01   6.04907220e-04   5.39922308e-04]\n",
      " [  0.00000000e+00   4.17530346e-03  -7.06309777e-01   7.05292580e-01\n",
      "    5.11126900e-03   1.98564949e-02   3.32266351e-02  -4.70908577e-03\n",
      "    4.60230275e-02  -1.78182764e-03   1.88658787e-03]\n",
      " [ -0.00000000e+00   1.39126407e-02  -1.05785553e-02  -5.73963654e-02\n",
      "    7.51680439e-03  -3.36706639e-03   9.98153510e-01  -1.58653851e-03\n",
      "   -4.16154209e-03  -6.09036210e-04  -1.30935282e-03]\n",
      " [ -0.00000000e+00   2.38702012e-04  -1.85712586e-03  -8.72910966e-03\n",
      "    9.99827185e-01  -4.91549014e-04  -8.07266212e-03  -1.12374936e-02\n",
      "   -5.15342645e-04   8.48758811e-03  -1.37902868e-03]\n",
      " [  0.00000000e+00   9.99705554e-01  -9.26300727e-03  -1.44424808e-02\n",
      "   -4.29369013e-04   2.70403663e-04  -1.48695420e-02   3.11070492e-04\n",
      "   -1.10460295e-03  -8.38875732e-03  -1.16992794e-03]\n",
      " [ -0.00000000e+00   8.38509535e-03  -1.87620318e-03   6.87321188e-04\n",
      "   -8.48441374e-03   1.91047040e-04   5.71973408e-04   1.27723539e-04\n",
      "   -8.48586962e-04   9.99925009e-01  -1.60906019e-03]\n",
      " [ -0.00000000e+00   1.18672813e-03   1.00024007e-03  -1.77085706e-03\n",
      "    1.35982663e-03  -4.80059309e-04   1.19552437e-03  -1.41253789e-04\n",
      "    6.29885003e-04   1.61381226e-03   9.99993963e-01]\n",
      " [  1.00000000e+00   0.00000000e+00   0.00000000e+00   0.00000000e+00\n",
      "    0.00000000e+00   0.00000000e+00   0.00000000e+00   0.00000000e+00\n",
      "    0.00000000e+00   0.00000000e+00   0.00000000e+00]]\n"
     ]
    }
   ],
   "source": [
    "pca = PCA(n_components=11)\n",
    "pca.fit(X_train)####Q6\n",
    "print 'The PCA components are',pca.components_"
   ]
  },
  {
   "cell_type": "code",
   "execution_count": 26,
   "metadata": {},
   "outputs": [
    {
     "name": "stdout",
     "output_type": "stream",
     "text": [
      "The first 2 PCA components are [[ -0.00000000e+00  -5.61152582e-04  -1.07405301e-02  -1.01657294e-02\n",
      "    1.10541982e-02   1.78456943e-01   1.44357345e-03   9.83695316e-01\n",
      "    1.23817436e-02  -6.44173586e-05   1.93576029e-04]\n",
      " [ -0.00000000e+00   5.61059696e-04   4.64347572e-02   1.04931403e-02\n",
      "   -1.24862372e-03   9.76817422e-01   4.56399731e-03  -1.77957496e-01\n",
      "    1.08948333e-01  -8.88548944e-06   3.42896278e-04]]\n"
     ]
    }
   ],
   "source": [
    "####Q7\n",
    "pca = PCA(n_components=2)\n",
    "pca.fit(X_train)####Q6\n",
    "print 'The first 2 PCA components are',pca.components_"
   ]
  },
  {
   "cell_type": "code",
   "execution_count": 27,
   "metadata": {},
   "outputs": [
    {
     "name": "stdout",
     "output_type": "stream",
     "text": [
      "projection error is 0.0529613511396\n"
     ]
    }
   ],
   "source": [
    "X_train_pca = pca.fit_transform(X_train)\n",
    "X_projected = pca.inverse_transform(X_train_pca)\n",
    "projection_error = ((X_train - X_projected) ** 2).mean()\n",
    "print \"projection error is\", projection_error"
   ]
  },
  {
   "cell_type": "code",
   "execution_count": 28,
   "metadata": {
    "collapsed": true
   },
   "outputs": [],
   "source": [
    "###8\n",
    "#find out the index of if the style of beer is American IPA or not\n",
    "index1=[]\n",
    "index2=[]\n",
    "for i in range(0,16666):\n",
    "    if y_train[i]==0:\n",
    "        index1.append(i)\n",
    "    elif y_train[i]==1:\n",
    "        index2.append(i)"
   ]
  },
  {
   "cell_type": "code",
   "execution_count": 30,
   "metadata": {},
   "outputs": [
    {
     "data": {
      "image/png": "[encoded data removed]",
      "text/plain": [
       "<matplotlib.figure.Figure at 0x150d6ef750>"
      ]
     },
     "metadata": {},
     "output_type": "display_data"
    }
   ],
   "source": [
    "import matplotlib.pyplot as plt\n",
    "g1=(X_train_pca[index1][:,0],X_train_pca[index1][:,1])\n",
    "g2=(X_train_pca[index2][:,0],X_train_pca[index2][:,1])\n",
    "data = (g1, g2)\n",
    "colors = (\"blue\", \"red\")\n",
    "groups = (\"other styples\", \"American IPA\") \n",
    "# Create plot\n",
    "fig = plt.figure()\n",
    "ax = fig.add_subplot(1, 1, 1, axisbg=\"1.0\")\n",
    " \n",
    "for data, color, group in zip(data, colors, groups):\n",
    "    x, y = data\n",
    "    ax.scatter(x, y, c=color, edgecolors='none',label=group)\n",
    "\n",
    "plt.title('Matplot scatter plot')\n",
    "plt.legend(loc=2)\n",
    "plt.show()"
   ]
  },
  {
   "cell_type": "code",
   "execution_count": null,
   "metadata": {
    "collapsed": true
   },
   "outputs": [],
   "source": []
  },
  {
   "cell_type": "code",
   "execution_count": null,
   "metadata": {
    "collapsed": true
   },
   "outputs": [],
   "source": []
  }
 ],
 "metadata": {
  "kernelspec": {
   "display_name": "Python 2",
   "language": "python",
   "name": "python2"
  },
  "language_info": {
   "codemirror_mode": {
    "name": "ipython",
    "version": 2
   },
   "file_extension": ".py",
   "mimetype": "text/x-python",
   "name": "python",
   "nbconvert_exporter": "python",
   "pygments_lexer": "ipython2",
   "version": "2.7.14"
  }
 },
 "nbformat": 4,
 "nbformat_minor": 2
}
